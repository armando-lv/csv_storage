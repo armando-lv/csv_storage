{
  "nbformat": 4,
  "nbformat_minor": 0,
  "metadata": {
    "colab": {
      "provenance": []
    },
    "kernelspec": {
      "name": "python3",
      "display_name": "Python 3"
    },
    "language_info": {
      "name": "python"
    }
  },
  "cells": [
    {
      "cell_type": "code",
      "execution_count": 1,
      "metadata": {
        "id": "zx_pEUfYbz2h",
        "colab": {
          "base_uri": "https://localhost:8080/"
        },
        "outputId": "f4375c4f-2d65-4807-8ff9-dd1666d386c1"
      },
      "outputs": [
        {
          "output_type": "stream",
          "name": "stdout",
          "text": [
            "Looking in indexes: https://pypi.org/simple, https://us-python.pkg.dev/colab-wheels/public/simple/\n",
            "Collecting pmdarima\n",
            "  Downloading pmdarima-2.0.3-cp310-cp310-manylinux_2_17_x86_64.manylinux2014_x86_64.manylinux_2_28_x86_64.whl (1.8 MB)\n",
            "\u001b[2K     \u001b[90m━━━━━━━━━━━━━━━━━━━━━━━━━━━━━━━━━━━━━━━━\u001b[0m \u001b[32m1.8/1.8 MB\u001b[0m \u001b[31m10.8 MB/s\u001b[0m eta \u001b[36m0:00:00\u001b[0m\n",
            "\u001b[?25hRequirement already satisfied: pandas>=0.19 in /usr/local/lib/python3.10/dist-packages (from pmdarima) (1.5.3)\n",
            "Requirement already satisfied: setuptools!=50.0.0,>=38.6.0 in /usr/local/lib/python3.10/dist-packages (from pmdarima) (67.7.2)\n",
            "Requirement already satisfied: scipy>=1.3.2 in /usr/local/lib/python3.10/dist-packages (from pmdarima) (1.10.1)\n",
            "Requirement already satisfied: joblib>=0.11 in /usr/local/lib/python3.10/dist-packages (from pmdarima) (1.2.0)\n",
            "Requirement already satisfied: scikit-learn>=0.22 in /usr/local/lib/python3.10/dist-packages (from pmdarima) (1.2.2)\n",
            "Requirement already satisfied: numpy>=1.21.2 in /usr/local/lib/python3.10/dist-packages (from pmdarima) (1.22.4)\n",
            "Requirement already satisfied: statsmodels>=0.13.2 in /usr/local/lib/python3.10/dist-packages (from pmdarima) (0.13.5)\n",
            "Requirement already satisfied: urllib3 in /usr/local/lib/python3.10/dist-packages (from pmdarima) (1.26.15)\n",
            "Requirement already satisfied: Cython!=0.29.18,!=0.29.31,>=0.29 in /usr/local/lib/python3.10/dist-packages (from pmdarima) (0.29.34)\n",
            "Requirement already satisfied: python-dateutil>=2.8.1 in /usr/local/lib/python3.10/dist-packages (from pandas>=0.19->pmdarima) (2.8.2)\n",
            "Requirement already satisfied: pytz>=2020.1 in /usr/local/lib/python3.10/dist-packages (from pandas>=0.19->pmdarima) (2022.7.1)\n",
            "Requirement already satisfied: threadpoolctl>=2.0.0 in /usr/local/lib/python3.10/dist-packages (from scikit-learn>=0.22->pmdarima) (3.1.0)\n",
            "Requirement already satisfied: packaging>=21.3 in /usr/local/lib/python3.10/dist-packages (from statsmodels>=0.13.2->pmdarima) (23.1)\n",
            "Requirement already satisfied: patsy>=0.5.2 in /usr/local/lib/python3.10/dist-packages (from statsmodels>=0.13.2->pmdarima) (0.5.3)\n",
            "Requirement already satisfied: six in /usr/local/lib/python3.10/dist-packages (from patsy>=0.5.2->statsmodels>=0.13.2->pmdarima) (1.16.0)\n",
            "Installing collected packages: pmdarima\n",
            "Successfully installed pmdarima-2.0.3\n"
          ]
        }
      ],
      "source": [
        "import pandas as pd\n",
        "import numpy as np\n",
        "import re\n",
        "import seaborn as sns\n",
        "from copy import deepcopy as dc\n",
        "!pip install pmdarima\n",
        "from pmdarima.arima import auto_arima\n",
        "import random as rand\n",
        "import matplotlib.pyplot as plt"
      ]
    },
    {
      "cell_type": "code",
      "source": [
        "# Carga y procesamiento\n",
        "sales = pd.read_csv(\"https://raw.githubusercontent.com/armando-lv/csv_storage/main/Ventas%202022%20Datos.csv\", index_col = None, encoding='latin-1')\n",
        "sales.columns = [\"ID\", \"Propiedad\", \"Agente\", \"Venta\", \"Mes\", \"Ganancia\", \"Comision\"]\n",
        "sales = sales.dropna()\n",
        "sales[\"ID\"] = sales[\"ID\"].map(lambda x: int(x))\n",
        "sales[\"Mes\"] = sales[\"Mes\"].map(lambda x: int(x))\n",
        "sales[\"Pct Ganancia\"] = sales[\"Ganancia\"] / sales[\"Venta\"]\n",
        "sales[\"Pct Comision\"] = sales[\"Comision\"] / sales[\"Venta\"]\n",
        "sales[\"Agente\"] = sales[\"Agente\"].map(lambda x: str(x).strip())\n",
        "sales"
      ],
      "metadata": {
        "id": "_Glqa5TZb6EB",
        "outputId": "f86dcf61-4a3c-46e6-e7a2-031e2954935f",
        "colab": {
          "base_uri": "https://localhost:8080/",
          "height": 423
        }
      },
      "execution_count": 2,
      "outputs": [
        {
          "output_type": "execute_result",
          "data": {
            "text/plain": [
              "    ID    Propiedad     Agente    Venta  Mes  Ganancia  Comision  \\\n",
              "0    0    Comercial        Max   795000    1     95400     47700   \n",
              "1    1   Industrial      Nadia  8875000    1   1242500    710000   \n",
              "2    2    Comercial    Marcela   391000    1     31280     11730   \n",
              "3    3    Comercial  Alexander  8260000    1   1239000    660800   \n",
              "4    4    Comercial       Luis  7679000    1    614320    307160   \n",
              "..  ..          ...        ...      ...  ...       ...       ...   \n",
              "81  81  Residencial  Alexander  4750000   11    712500    380000   \n",
              "82  82    Comercial    Marcela  8204000   11    902440    656320   \n",
              "83  80  Residencial  Alexander   127000   12      6350      5080   \n",
              "84  81  Residencial  Alexander  4521000   12    542520    226050   \n",
              "85  82    Comercial  Alexander  8227000   12   1316320    411350   \n",
              "\n",
              "    Pct Ganancia  Pct Comision  \n",
              "0           0.12          0.06  \n",
              "1           0.14          0.08  \n",
              "2           0.08          0.03  \n",
              "3           0.15          0.08  \n",
              "4           0.08          0.04  \n",
              "..           ...           ...  \n",
              "81          0.15          0.08  \n",
              "82          0.11          0.08  \n",
              "83          0.05          0.04  \n",
              "84          0.12          0.05  \n",
              "85          0.16          0.05  \n",
              "\n",
              "[86 rows x 9 columns]"
            ],
            "text/html": [
              "\n",
              "  <div id=\"df-829a5958-e2c1-4cb3-8e73-31b4a53f51e4\">\n",
              "    <div class=\"colab-df-container\">\n",
              "      <div>\n",
              "<style scoped>\n",
              "    .dataframe tbody tr th:only-of-type {\n",
              "        vertical-align: middle;\n",
              "    }\n",
              "\n",
              "    .dataframe tbody tr th {\n",
              "        vertical-align: top;\n",
              "    }\n",
              "\n",
              "    .dataframe thead th {\n",
              "        text-align: right;\n",
              "    }\n",
              "</style>\n",
              "<table border=\"1\" class=\"dataframe\">\n",
              "  <thead>\n",
              "    <tr style=\"text-align: right;\">\n",
              "      <th></th>\n",
              "      <th>ID</th>\n",
              "      <th>Propiedad</th>\n",
              "      <th>Agente</th>\n",
              "      <th>Venta</th>\n",
              "      <th>Mes</th>\n",
              "      <th>Ganancia</th>\n",
              "      <th>Comision</th>\n",
              "      <th>Pct Ganancia</th>\n",
              "      <th>Pct Comision</th>\n",
              "    </tr>\n",
              "  </thead>\n",
              "  <tbody>\n",
              "    <tr>\n",
              "      <th>0</th>\n",
              "      <td>0</td>\n",
              "      <td>Comercial</td>\n",
              "      <td>Max</td>\n",
              "      <td>795000</td>\n",
              "      <td>1</td>\n",
              "      <td>95400</td>\n",
              "      <td>47700</td>\n",
              "      <td>0.12</td>\n",
              "      <td>0.06</td>\n",
              "    </tr>\n",
              "    <tr>\n",
              "      <th>1</th>\n",
              "      <td>1</td>\n",
              "      <td>Industrial</td>\n",
              "      <td>Nadia</td>\n",
              "      <td>8875000</td>\n",
              "      <td>1</td>\n",
              "      <td>1242500</td>\n",
              "      <td>710000</td>\n",
              "      <td>0.14</td>\n",
              "      <td>0.08</td>\n",
              "    </tr>\n",
              "    <tr>\n",
              "      <th>2</th>\n",
              "      <td>2</td>\n",
              "      <td>Comercial</td>\n",
              "      <td>Marcela</td>\n",
              "      <td>391000</td>\n",
              "      <td>1</td>\n",
              "      <td>31280</td>\n",
              "      <td>11730</td>\n",
              "      <td>0.08</td>\n",
              "      <td>0.03</td>\n",
              "    </tr>\n",
              "    <tr>\n",
              "      <th>3</th>\n",
              "      <td>3</td>\n",
              "      <td>Comercial</td>\n",
              "      <td>Alexander</td>\n",
              "      <td>8260000</td>\n",
              "      <td>1</td>\n",
              "      <td>1239000</td>\n",
              "      <td>660800</td>\n",
              "      <td>0.15</td>\n",
              "      <td>0.08</td>\n",
              "    </tr>\n",
              "    <tr>\n",
              "      <th>4</th>\n",
              "      <td>4</td>\n",
              "      <td>Comercial</td>\n",
              "      <td>Luis</td>\n",
              "      <td>7679000</td>\n",
              "      <td>1</td>\n",
              "      <td>614320</td>\n",
              "      <td>307160</td>\n",
              "      <td>0.08</td>\n",
              "      <td>0.04</td>\n",
              "    </tr>\n",
              "    <tr>\n",
              "      <th>...</th>\n",
              "      <td>...</td>\n",
              "      <td>...</td>\n",
              "      <td>...</td>\n",
              "      <td>...</td>\n",
              "      <td>...</td>\n",
              "      <td>...</td>\n",
              "      <td>...</td>\n",
              "      <td>...</td>\n",
              "      <td>...</td>\n",
              "    </tr>\n",
              "    <tr>\n",
              "      <th>81</th>\n",
              "      <td>81</td>\n",
              "      <td>Residencial</td>\n",
              "      <td>Alexander</td>\n",
              "      <td>4750000</td>\n",
              "      <td>11</td>\n",
              "      <td>712500</td>\n",
              "      <td>380000</td>\n",
              "      <td>0.15</td>\n",
              "      <td>0.08</td>\n",
              "    </tr>\n",
              "    <tr>\n",
              "      <th>82</th>\n",
              "      <td>82</td>\n",
              "      <td>Comercial</td>\n",
              "      <td>Marcela</td>\n",
              "      <td>8204000</td>\n",
              "      <td>11</td>\n",
              "      <td>902440</td>\n",
              "      <td>656320</td>\n",
              "      <td>0.11</td>\n",
              "      <td>0.08</td>\n",
              "    </tr>\n",
              "    <tr>\n",
              "      <th>83</th>\n",
              "      <td>80</td>\n",
              "      <td>Residencial</td>\n",
              "      <td>Alexander</td>\n",
              "      <td>127000</td>\n",
              "      <td>12</td>\n",
              "      <td>6350</td>\n",
              "      <td>5080</td>\n",
              "      <td>0.05</td>\n",
              "      <td>0.04</td>\n",
              "    </tr>\n",
              "    <tr>\n",
              "      <th>84</th>\n",
              "      <td>81</td>\n",
              "      <td>Residencial</td>\n",
              "      <td>Alexander</td>\n",
              "      <td>4521000</td>\n",
              "      <td>12</td>\n",
              "      <td>542520</td>\n",
              "      <td>226050</td>\n",
              "      <td>0.12</td>\n",
              "      <td>0.05</td>\n",
              "    </tr>\n",
              "    <tr>\n",
              "      <th>85</th>\n",
              "      <td>82</td>\n",
              "      <td>Comercial</td>\n",
              "      <td>Alexander</td>\n",
              "      <td>8227000</td>\n",
              "      <td>12</td>\n",
              "      <td>1316320</td>\n",
              "      <td>411350</td>\n",
              "      <td>0.16</td>\n",
              "      <td>0.05</td>\n",
              "    </tr>\n",
              "  </tbody>\n",
              "</table>\n",
              "<p>86 rows × 9 columns</p>\n",
              "</div>\n",
              "      <button class=\"colab-df-convert\" onclick=\"convertToInteractive('df-829a5958-e2c1-4cb3-8e73-31b4a53f51e4')\"\n",
              "              title=\"Convert this dataframe to an interactive table.\"\n",
              "              style=\"display:none;\">\n",
              "        \n",
              "  <svg xmlns=\"http://www.w3.org/2000/svg\" height=\"24px\"viewBox=\"0 0 24 24\"\n",
              "       width=\"24px\">\n",
              "    <path d=\"M0 0h24v24H0V0z\" fill=\"none\"/>\n",
              "    <path d=\"M18.56 5.44l.94 2.06.94-2.06 2.06-.94-2.06-.94-.94-2.06-.94 2.06-2.06.94zm-11 1L8.5 8.5l.94-2.06 2.06-.94-2.06-.94L8.5 2.5l-.94 2.06-2.06.94zm10 10l.94 2.06.94-2.06 2.06-.94-2.06-.94-.94-2.06-.94 2.06-2.06.94z\"/><path d=\"M17.41 7.96l-1.37-1.37c-.4-.4-.92-.59-1.43-.59-.52 0-1.04.2-1.43.59L10.3 9.45l-7.72 7.72c-.78.78-.78 2.05 0 2.83L4 21.41c.39.39.9.59 1.41.59.51 0 1.02-.2 1.41-.59l7.78-7.78 2.81-2.81c.8-.78.8-2.07 0-2.86zM5.41 20L4 18.59l7.72-7.72 1.47 1.35L5.41 20z\"/>\n",
              "  </svg>\n",
              "      </button>\n",
              "      \n",
              "  <style>\n",
              "    .colab-df-container {\n",
              "      display:flex;\n",
              "      flex-wrap:wrap;\n",
              "      gap: 12px;\n",
              "    }\n",
              "\n",
              "    .colab-df-convert {\n",
              "      background-color: #E8F0FE;\n",
              "      border: none;\n",
              "      border-radius: 50%;\n",
              "      cursor: pointer;\n",
              "      display: none;\n",
              "      fill: #1967D2;\n",
              "      height: 32px;\n",
              "      padding: 0 0 0 0;\n",
              "      width: 32px;\n",
              "    }\n",
              "\n",
              "    .colab-df-convert:hover {\n",
              "      background-color: #E2EBFA;\n",
              "      box-shadow: 0px 1px 2px rgba(60, 64, 67, 0.3), 0px 1px 3px 1px rgba(60, 64, 67, 0.15);\n",
              "      fill: #174EA6;\n",
              "    }\n",
              "\n",
              "    [theme=dark] .colab-df-convert {\n",
              "      background-color: #3B4455;\n",
              "      fill: #D2E3FC;\n",
              "    }\n",
              "\n",
              "    [theme=dark] .colab-df-convert:hover {\n",
              "      background-color: #434B5C;\n",
              "      box-shadow: 0px 1px 3px 1px rgba(0, 0, 0, 0.15);\n",
              "      filter: drop-shadow(0px 1px 2px rgba(0, 0, 0, 0.3));\n",
              "      fill: #FFFFFF;\n",
              "    }\n",
              "  </style>\n",
              "\n",
              "      <script>\n",
              "        const buttonEl =\n",
              "          document.querySelector('#df-829a5958-e2c1-4cb3-8e73-31b4a53f51e4 button.colab-df-convert');\n",
              "        buttonEl.style.display =\n",
              "          google.colab.kernel.accessAllowed ? 'block' : 'none';\n",
              "\n",
              "        async function convertToInteractive(key) {\n",
              "          const element = document.querySelector('#df-829a5958-e2c1-4cb3-8e73-31b4a53f51e4');\n",
              "          const dataTable =\n",
              "            await google.colab.kernel.invokeFunction('convertToInteractive',\n",
              "                                                     [key], {});\n",
              "          if (!dataTable) return;\n",
              "\n",
              "          const docLinkHtml = 'Like what you see? Visit the ' +\n",
              "            '<a target=\"_blank\" href=https://colab.research.google.com/notebooks/data_table.ipynb>data table notebook</a>'\n",
              "            + ' to learn more about interactive tables.';\n",
              "          element.innerHTML = '';\n",
              "          dataTable['output_type'] = 'display_data';\n",
              "          await google.colab.output.renderOutput(dataTable, element);\n",
              "          const docLink = document.createElement('div');\n",
              "          docLink.innerHTML = docLinkHtml;\n",
              "          element.appendChild(docLink);\n",
              "        }\n",
              "      </script>\n",
              "    </div>\n",
              "  </div>\n",
              "  "
            ]
          },
          "metadata": {},
          "execution_count": 2
        }
      ]
    },
    {
      "cell_type": "code",
      "source": [
        "# from google.colab import files\n",
        "# sales.to_csv('Ventas 2022.csv') \n",
        "# files.download('Ventas 2022.csv')"
      ],
      "metadata": {
        "id": "CajQH3SANgdl"
      },
      "execution_count": 3,
      "outputs": []
    },
    {
      "cell_type": "code",
      "source": [
        "sales_sum = sales[[\"Venta\", \"Mes\"]].groupby([\"Mes\"]).sum()\n",
        "print(sales_sum)\n",
        "sns.lineplot(sales_sum)"
      ],
      "metadata": {
        "colab": {
          "base_uri": "https://localhost:8080/",
          "height": 725
        },
        "id": "lsY9YwJuDIEq",
        "outputId": "ace041ea-4d36-4578-d7d5-7fb6f32d2072"
      },
      "execution_count": 4,
      "outputs": [
        {
          "output_type": "stream",
          "name": "stdout",
          "text": [
            "        Venta\n",
            "Mes          \n",
            "1    34314000\n",
            "2    56348000\n",
            "3    27220000\n",
            "4    53193000\n",
            "5    24168000\n",
            "6     2934000\n",
            "7     8113000\n",
            "8    10017000\n",
            "9     7051000\n",
            "10    2527000\n",
            "11   41975000\n",
            "12   12875000\n"
          ]
        },
        {
          "output_type": "execute_result",
          "data": {
            "text/plain": [
              "<Axes: xlabel='Mes'>"
            ]
          },
          "metadata": {},
          "execution_count": 4
        },
        {
          "output_type": "display_data",
          "data": {
            "text/plain": [
              "<Figure size 640x480 with 1 Axes>"
            ],
            "image/png": "[encoded data removed]"
          },
          "metadata": {}
        }
      ]
    },
    {
      "cell_type": "code",
      "source": [
        "sales_count = sales[[\"Venta\", \"Mes\"]].groupby([\"Mes\"]).count()\n",
        "print(sales_count)\n",
        "sns.lineplot(sales_count)"
      ],
      "metadata": {
        "colab": {
          "base_uri": "https://localhost:8080/",
          "height": 709
        },
        "id": "FOBE13hGDbMF",
        "outputId": "099a398d-983f-4d15-a09b-c5d5fc882f80"
      },
      "execution_count": 5,
      "outputs": [
        {
          "output_type": "stream",
          "name": "stdout",
          "text": [
            "     Venta\n",
            "Mes       \n",
            "1        8\n",
            "2       18\n",
            "3       10\n",
            "4       16\n",
            "5        6\n",
            "6        2\n",
            "7        2\n",
            "8        3\n",
            "9        2\n",
            "10       4\n",
            "11      12\n",
            "12       3\n"
          ]
        },
        {
          "output_type": "execute_result",
          "data": {
            "text/plain": [
              "<Axes: xlabel='Mes'>"
            ]
          },
          "metadata": {},
          "execution_count": 5
        },
        {
          "output_type": "display_data",
          "data": {
            "text/plain": [
              "<Figure size 640x480 with 1 Axes>"
            ],
            "image/png": "[encoded data removed]"
          },
          "metadata": {}
        }
      ]
    },
    {
      "cell_type": "code",
      "source": [
        "# Modelo arima para pronosticar cantidad de ventas en enero, febrero y marzo 2022\n",
        "count_series = [x[0] for x in sales_count.values]\n",
        "count_series = count_series[:7] + [0] + count_series[7:]\n",
        "\n",
        "for i in range(1, 4):\n",
        "  model = auto_arima(count_series, start_p=0, start_q=0)\n",
        "  result = model.predict(steps = 1)\n",
        "  count_series.append(result[0])\n",
        "\n",
        "count_series = count_series[:11] + [0] + count_series[11:]\n",
        "sns.lineplot(count_series)\n",
        "plt.axvline(12, 0,20, color = \"green\")"
      ],
      "metadata": {
        "colab": {
          "base_uri": "https://localhost:8080/",
          "height": 447
        },
        "id": "UPFt0M74CXDN",
        "outputId": "5ce87288-29ff-4913-a87a-6c4c37352199"
      },
      "execution_count": 6,
      "outputs": [
        {
          "output_type": "execute_result",
          "data": {
            "text/plain": [
              "<matplotlib.lines.Line2D at 0x7f557bfb8490>"
            ]
          },
          "metadata": {},
          "execution_count": 6
        },
        {
          "output_type": "display_data",
          "data": {
            "text/plain": [
              "<Figure size 640x480 with 1 Axes>"
            ],
            "image/png": "[encoded data removed]"
          },
          "metadata": {}
        }
      ]
    },
    {
      "cell_type": "code",
      "source": [
        "# Modelo arima para pronosticar cantidad de ventas en enero, febrero y marzo 2022\n",
        "sales_series = [x[0] for x in sales_sum.values]\n",
        "sales_series = sales_series[:7] + [0] + sales_series[7:]\n",
        "\n",
        "for i in range(1, 4):\n",
        "  model = auto_arima(sales_series, start_p=0, start_q=0)\n",
        "  result = model.predict(steps = 1)\n",
        "  sales_series.append(result[0])\n",
        "\n",
        "sales_series = sales_series[:11] + [0] + sales_series[11:]\n",
        "sns.lineplot(sales_series)\n",
        "plt.axvline(12, 0,20, color = \"green\")"
      ],
      "metadata": {
        "colab": {
          "base_uri": "https://localhost:8080/",
          "height": 462
        },
        "id": "fE9M_009IS8C",
        "outputId": "13882217-877f-49eb-8b28-e4f119eb5c1b"
      },
      "execution_count": 7,
      "outputs": [
        {
          "output_type": "execute_result",
          "data": {
            "text/plain": [
              "<matplotlib.lines.Line2D at 0x7f5579f2f3d0>"
            ]
          },
          "metadata": {},
          "execution_count": 7
        },
        {
          "output_type": "display_data",
          "data": {
            "text/plain": [
              "<Figure size 640x480 with 1 Axes>"
            ],
            "image/png": "[encoded data removed]"
          },
          "metadata": {}
        }
      ]
    },
    {
      "cell_type": "markdown",
      "source": [
        "El modelo de simulación desarrollado ha proporcionado una perspectiva y una herramienta para solucionar el problema que se tiene en el negocio que se presenta al momento de asignar las diversas propiedades a los diferentes agentes y que de forma directa e indirecta ha afectado de manera importante los ingresos en determinados meses. Por lo cual, se puede concluir a grandes rasgos que las variables implementadas en la simulación han fungido como una pieza clave para distinguir las más relevantes y las que nos permitieron llegar a crear un modelo de simulación que logró determinar cuál es la mejor estrategia para generar las asignaciones de venta de un terreno a un agente para maximizar las ventas.\n",
        "\n",
        "De igual manera, es importante mencionar que han existido algunas complicaciones alrededor del modelo que en un principio preocupo al grupo y totalmente distorsionando los objetivos a los que teníamos establecimos, pero finalmente logramos interpretar de forma efectiva la dinámica idónea y la alteración de las múltiples variables que afectan a la asignación concreta de los agentes considerando las variables más importantes."
      ],
      "metadata": {
        "id": "Z_h48XjVJxr6"
      }
    },
    {
      "cell_type": "markdown",
      "source": [
        "Inserta tipo propiedad, inserta precio de venta recomendado, inserta vendedor, genera ganancia potencial, usa comision promedio para encontrar ganancia final <-- variable objetivo para encontrar el agente a usar\n",
        "\n",
        "Encuentra factor entre 0.04 y 0.16 para encontrar ganancia\n",
        "factor toma en cuenta porcentaje ganancia por agente por tipo de propiedad\n",
        "Luego obten promedio de comision para ser la comisión del agente (agrega variabilidad)"
      ],
      "metadata": {
        "id": "NIVj6l9rY0Y4"
      }
    },
    {
      "cell_type": "code",
      "source": [
        "# Simulación\n",
        "profit = dc(sales[[\"Propiedad\", \"Agente\", \"Pct Ganancia\"]])\n",
        "cut = dc(sales[[\"Propiedad\", \"Agente\", \"Pct Comision\"]])\n",
        "\n",
        "avg_profit = dc(profit.groupby([\"Propiedad\", \"Agente\"]).mean()) # Ganancia promedio por agente por propiedad\n",
        "avg_cut = dc(cut.groupby([\"Propiedad\", \"Agente\"]).mean()) # Comisión promedio por agente por propiedad\n",
        "avg_avg = sales[[\"Agente\", \"Pct Ganancia\", \"Pct Comision\"]].groupby([\"Agente\"]).mean()"
      ],
      "metadata": {
        "id": "e5iwFesBbBzx"
      },
      "execution_count": 8,
      "outputs": []
    },
    {
      "cell_type": "code",
      "source": [
        "# Inserta tipo de propiedad y precio de venta\n",
        "# Opciones:\n",
        "print(list(sales[\"Propiedad\"].unique()))\n",
        "propiedad = \"Comercial\"\n",
        "venta = 250400"
      ],
      "metadata": {
        "id": "i2DUoiyYgO2v",
        "outputId": "c685c6a1-ef24-4529-8d94-ba1920daca25",
        "colab": {
          "base_uri": "https://localhost:8080/"
        }
      },
      "execution_count": 9,
      "outputs": [
        {
          "output_type": "stream",
          "name": "stdout",
          "text": [
            "['Comercial', 'Industrial', 'Residencial']\n"
          ]
        }
      ]
    },
    {
      "cell_type": "code",
      "source": [
        "agents = {\"Agente\" : list(sales[\"Agente\"].unique())}\n",
        "agents = pd.DataFrame(agents, columns = [\"Agente\"])\n",
        "\n",
        "ganancia = []\n",
        "comision = []\n",
        "ganancia_final = []\n",
        "\n",
        "current_profit = dc(avg_profit.loc[propiedad])\n",
        "current_cut = dc(avg_cut.loc[propiedad])\n",
        "for agent in agents[\"Agente\"]:\n",
        "  if agent in current_profit.index:\n",
        "    ganancia.append(float(current_profit.loc[agent]))\n",
        "    comision.append(float(current_cut.loc[agent]))\n",
        "  else:\n",
        "    ganancia.append(float(avg_avg[\"Pct Ganancia\"].loc[agent]))\n",
        "    comision.append(float(avg_avg[\"Pct Comision\"].loc[agent]))\n",
        "\n",
        "agents[\"Ganancia Sim\"] = ganancia\n",
        "agents[\"Comision Sim\"] = comision"
      ],
      "metadata": {
        "id": "nq3aihnSfaj4"
      },
      "execution_count": 33,
      "outputs": []
    },
    {
      "cell_type": "code",
      "source": [
        "finales = []\n",
        "for i in range(len(agents)):\n",
        "  sim_profit = venta * agents.iloc[i, 1]\n",
        "  sim_cut = (venta + sim_profit) * agents.iloc[i, 2]\n",
        "  sim_final = sim_profit - sim_cut\n",
        "  finales.append(sim_final)\n",
        "\n",
        "agents[\"Ganancia Final\"] = finales\n",
        "agents[\"Porcentaje Ganancia Final\"] = agents[\"Ganancia Final\"] / venta"
      ],
      "metadata": {
        "id": "t9q27xBom2s_"
      },
      "execution_count": 47,
      "outputs": []
    },
    {
      "cell_type": "code",
      "source": [
        "print(f\"Precio de venta: {venta}, Tipo de propiedad: {propiedad}\")\n",
        "agents"
      ],
      "metadata": {
        "id": "5nQ72qX5rW91",
        "outputId": "936e9225-917b-436c-dcbc-94add78159b8",
        "colab": {
          "base_uri": "https://localhost:8080/",
          "height": 223
        }
      },
      "execution_count": 48,
      "outputs": [
        {
          "output_type": "stream",
          "name": "stdout",
          "text": [
            "Precio de venta: 250400, Tipo de propiedad: Comercial\n"
          ]
        },
        {
          "output_type": "execute_result",
          "data": {
            "text/plain": [
              "      Agente  Ganancia Sim  Comision Sim  Ganancia Final  \\\n",
              "0        Max      0.130000      0.060000    15574.880000   \n",
              "1      Nadia      0.115000      0.047500    15534.190000   \n",
              "2    Marcela      0.113125      0.056875    12473.930312   \n",
              "3  Alexander      0.117143      0.057143    13347.853061   \n",
              "4       Luis      0.092000      0.064000     5536.844800   \n",
              "\n",
              "   Porcentaje Ganancia Final  \n",
              "0                   0.062200  \n",
              "1                   0.062038  \n",
              "2                   0.049816  \n",
              "3                   0.053306  \n",
              "4                   0.022112  "
            ],
            "text/html": [
              "\n",
              "  <div id=\"df-10c83476-5a08-42c3-8660-16670e998954\">\n",
              "    <div class=\"colab-df-container\">\n",
              "      <div>\n",
              "<style scoped>\n",
              "    .dataframe tbody tr th:only-of-type {\n",
              "        vertical-align: middle;\n",
              "    }\n",
              "\n",
              "    .dataframe tbody tr th {\n",
              "        vertical-align: top;\n",
              "    }\n",
              "\n",
              "    .dataframe thead th {\n",
              "        text-align: right;\n",
              "    }\n",
              "</style>\n",
              "<table border=\"1\" class=\"dataframe\">\n",
              "  <thead>\n",
              "    <tr style=\"text-align: right;\">\n",
              "      <th></th>\n",
              "      <th>Agente</th>\n",
              "      <th>Ganancia Sim</th>\n",
              "      <th>Comision Sim</th>\n",
              "      <th>Ganancia Final</th>\n",
              "      <th>Porcentaje Ganancia Final</th>\n",
              "    </tr>\n",
              "  </thead>\n",
              "  <tbody>\n",
              "    <tr>\n",
              "      <th>0</th>\n",
              "      <td>Max</td>\n",
              "      <td>0.130000</td>\n",
              "      <td>0.060000</td>\n",
              "      <td>15574.880000</td>\n",
              "      <td>0.062200</td>\n",
              "    </tr>\n",
              "    <tr>\n",
              "      <th>1</th>\n",
              "      <td>Nadia</td>\n",
              "      <td>0.115000</td>\n",
              "      <td>0.047500</td>\n",
              "      <td>15534.190000</td>\n",
              "      <td>0.062038</td>\n",
              "    </tr>\n",
              "    <tr>\n",
              "      <th>2</th>\n",
              "      <td>Marcela</td>\n",
              "      <td>0.113125</td>\n",
              "      <td>0.056875</td>\n",
              "      <td>12473.930312</td>\n",
              "      <td>0.049816</td>\n",
              "    </tr>\n",
              "    <tr>\n",
              "      <th>3</th>\n",
              "      <td>Alexander</td>\n",
              "      <td>0.117143</td>\n",
              "      <td>0.057143</td>\n",
              "      <td>13347.853061</td>\n",
              "      <td>0.053306</td>\n",
              "    </tr>\n",
              "    <tr>\n",
              "      <th>4</th>\n",
              "      <td>Luis</td>\n",
              "      <td>0.092000</td>\n",
              "      <td>0.064000</td>\n",
              "      <td>5536.844800</td>\n",
              "      <td>0.022112</td>\n",
              "    </tr>\n",
              "  </tbody>\n",
              "</table>\n",
              "</div>\n",
              "      <button class=\"colab-df-convert\" onclick=\"convertToInteractive('df-10c83476-5a08-42c3-8660-16670e998954')\"\n",
              "              title=\"Convert this dataframe to an interactive table.\"\n",
              "              style=\"display:none;\">\n",
              "        \n",
              "  <svg xmlns=\"http://www.w3.org/2000/svg\" height=\"24px\"viewBox=\"0 0 24 24\"\n",
              "       width=\"24px\">\n",
              "    <path d=\"M0 0h24v24H0V0z\" fill=\"none\"/>\n",
              "    <path d=\"M18.56 5.44l.94 2.06.94-2.06 2.06-.94-2.06-.94-.94-2.06-.94 2.06-2.06.94zm-11 1L8.5 8.5l.94-2.06 2.06-.94-2.06-.94L8.5 2.5l-.94 2.06-2.06.94zm10 10l.94 2.06.94-2.06 2.06-.94-2.06-.94-.94-2.06-.94 2.06-2.06.94z\"/><path d=\"M17.41 7.96l-1.37-1.37c-.4-.4-.92-.59-1.43-.59-.52 0-1.04.2-1.43.59L10.3 9.45l-7.72 7.72c-.78.78-.78 2.05 0 2.83L4 21.41c.39.39.9.59 1.41.59.51 0 1.02-.2 1.41-.59l7.78-7.78 2.81-2.81c.8-.78.8-2.07 0-2.86zM5.41 20L4 18.59l7.72-7.72 1.47 1.35L5.41 20z\"/>\n",
              "  </svg>\n",
              "      </button>\n",
              "      \n",
              "  <style>\n",
              "    .colab-df-container {\n",
              "      display:flex;\n",
              "      flex-wrap:wrap;\n",
              "      gap: 12px;\n",
              "    }\n",
              "\n",
              "    .colab-df-convert {\n",
              "      background-color: #E8F0FE;\n",
              "      border: none;\n",
              "      border-radius: 50%;\n",
              "      cursor: pointer;\n",
              "      display: none;\n",
              "      fill: #1967D2;\n",
              "      height: 32px;\n",
              "      padding: 0 0 0 0;\n",
              "      width: 32px;\n",
              "    }\n",
              "\n",
              "    .colab-df-convert:hover {\n",
              "      background-color: #E2EBFA;\n",
              "      box-shadow: 0px 1px 2px rgba(60, 64, 67, 0.3), 0px 1px 3px 1px rgba(60, 64, 67, 0.15);\n",
              "      fill: #174EA6;\n",
              "    }\n",
              "\n",
              "    [theme=dark] .colab-df-convert {\n",
              "      background-color: #3B4455;\n",
              "      fill: #D2E3FC;\n",
              "    }\n",
              "\n",
              "    [theme=dark] .colab-df-convert:hover {\n",
              "      background-color: #434B5C;\n",
              "      box-shadow: 0px 1px 3px 1px rgba(0, 0, 0, 0.15);\n",
              "      filter: drop-shadow(0px 1px 2px rgba(0, 0, 0, 0.3));\n",
              "      fill: #FFFFFF;\n",
              "    }\n",
              "  </style>\n",
              "\n",
              "      <script>\n",
              "        const buttonEl =\n",
              "          document.querySelector('#df-10c83476-5a08-42c3-8660-16670e998954 button.colab-df-convert');\n",
              "        buttonEl.style.display =\n",
              "          google.colab.kernel.accessAllowed ? 'block' : 'none';\n",
              "\n",
              "        async function convertToInteractive(key) {\n",
              "          const element = document.querySelector('#df-10c83476-5a08-42c3-8660-16670e998954');\n",
              "          const dataTable =\n",
              "            await google.colab.kernel.invokeFunction('convertToInteractive',\n",
              "                                                     [key], {});\n",
              "          if (!dataTable) return;\n",
              "\n",
              "          const docLinkHtml = 'Like what you see? Visit the ' +\n",
              "            '<a target=\"_blank\" href=https://colab.research.google.com/notebooks/data_table.ipynb>data table notebook</a>'\n",
              "            + ' to learn more about interactive tables.';\n",
              "          element.innerHTML = '';\n",
              "          dataTable['output_type'] = 'display_data';\n",
              "          await google.colab.output.renderOutput(dataTable, element);\n",
              "          const docLink = document.createElement('div');\n",
              "          docLink.innerHTML = docLinkHtml;\n",
              "          element.appendChild(docLink);\n",
              "        }\n",
              "      </script>\n",
              "    </div>\n",
              "  </div>\n",
              "  "
            ]
          },
          "metadata": {},
          "execution_count": 48
        }
      ]
    }
  ]
}